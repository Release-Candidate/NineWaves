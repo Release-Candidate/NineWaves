{
 "cells": [
  {
   "cell_type": "markdown",
   "id": "chronic-tension",
   "metadata": {},
   "source": [
    "# NineWaves\n",
    "\n",
    "NineWaves is F# library and NuGet Package to use the nine Maya waves of Carl Johan Calleman.\n",
    "\n",
    "The documentation is at [Read the Docs](https://ninewaves.readthedocs.io/en/latest/) the source code at [GitHub](https://github.com/Release-Candidate/NineWaves)\n",
    "\n",
    "## Installation of the Package and Basic Usage\n",
    "\n",
    "Download an install the NineWaves Nuget package using your IDE (Visual Studio or JetBrains Rider) or one of the command-line possibilities: [NineWaves Package at NuGet](https://www.nuget.org/packages/NineWaves/)\n",
    "\n",
    "In an interactive F# FSI session, you can use the command #r \"nuget: NUGET_PACKAGE\" to download and use the nuget package NUGET_PACKAGE.\n",
    "\n",
    "To use NineWaves in this interactive session:"
   ]
  },
  {
   "cell_type": "code",
   "execution_count": 1,
   "id": "heated-spouse",
   "metadata": {
    "dotnet_interactive": {
     "language": "fsharp"
    }
   },
   "outputs": [
    {
     "data": {
      "text/html": [
       "\r\n",
       "<div>\r\n",
       "    <div id='dotnet-interactive-this-cell-6256.Microsoft.DotNet.Interactive.Http.HttpPort' style='display: none'>\r\n",
       "        The below script needs to be able to find the current output cell; this is an easy method to get it.\r\n",
       "    </div>\r\n",
       "    <script type='text/javascript'>\r\n",
       "async function probeAddresses(probingAddresses) {\r\n",
       "    function timeout(ms, promise) {\r\n",
       "        return new Promise(function (resolve, reject) {\r\n",
       "            setTimeout(function () {\r\n",
       "                reject(new Error('timeout'))\r\n",
       "            }, ms)\r\n",
       "            promise.then(resolve, reject)\r\n",
       "        })\r\n",
       "    }\r\n",
       "\r\n",
       "    if (Array.isArray(probingAddresses)) {\r\n",
       "        for (let i = 0; i < probingAddresses.length; i++) {\r\n",
       "\r\n",
       "            let rootUrl = probingAddresses[i];\r\n",
       "\r\n",
       "            if (!rootUrl.endsWith('/')) {\r\n",
       "                rootUrl = `${rootUrl}/`;\r\n",
       "            }\r\n",
       "\r\n",
       "            try {\r\n",
       "                let response = await timeout(1000, fetch(`${rootUrl}discovery`, {\r\n",
       "                    method: 'POST',\r\n",
       "                    cache: 'no-cache',\r\n",
       "                    mode: 'cors',\r\n",
       "                    timeout: 1000,\r\n",
       "                    headers: {\r\n",
       "                        'Content-Type': 'text/plain'\r\n",
       "                    },\r\n",
       "                    body: probingAddresses[i]\r\n",
       "                }));\r\n",
       "\r\n",
       "                if (response.status == 200) {\r\n",
       "                    return rootUrl;\r\n",
       "                }\r\n",
       "            }\r\n",
       "            catch (e) { }\r\n",
       "        }\r\n",
       "    }\r\n",
       "}\r\n",
       "\r\n",
       "function loadDotnetInteractiveApi() {\r\n",
       "    probeAddresses([\"http://192.168.56.1:1003/\", \"http://192.168.0.100:1003/\", \"http://127.0.0.1:1003/\"])\r\n",
       "        .then((root) => {\r\n",
       "        // use probing to find host url and api resources\r\n",
       "        // load interactive helpers and language services\r\n",
       "        let dotnetInteractiveRequire = require.config({\r\n",
       "        context: '6256.Microsoft.DotNet.Interactive.Http.HttpPort',\r\n",
       "                paths:\r\n",
       "            {\r\n",
       "                'dotnet-interactive': `${root}resources`\r\n",
       "                }\r\n",
       "        }) || require;\r\n",
       "\r\n",
       "            window.dotnetInteractiveRequire = dotnetInteractiveRequire;\r\n",
       "\r\n",
       "            window.configureRequireFromExtension = function(extensionName, extensionCacheBuster) {\r\n",
       "                let paths = {};\r\n",
       "                paths[extensionName] = `${root}extensions/${extensionName}/resources/`;\r\n",
       "                \r\n",
       "                let internalRequire = require.config({\r\n",
       "                    context: extensionCacheBuster,\r\n",
       "                    paths: paths,\r\n",
       "                    urlArgs: `cacheBuster=${extensionCacheBuster}`\r\n",
       "                    }) || require;\r\n",
       "\r\n",
       "                return internalRequire\r\n",
       "            };\r\n",
       "        \r\n",
       "            dotnetInteractiveRequire([\r\n",
       "                    'dotnet-interactive/dotnet-interactive'\r\n",
       "                ],\r\n",
       "                function (dotnet) {\r\n",
       "                    dotnet.init(window);\r\n",
       "                },\r\n",
       "                function (error) {\r\n",
       "                    console.log(error);\r\n",
       "                }\r\n",
       "            );\r\n",
       "        })\r\n",
       "        .catch(error => {console.log(error);});\r\n",
       "    }\r\n",
       "\r\n",
       "// ensure `require` is available globally\r\n",
       "if ((typeof(require) !==  typeof(Function)) || (typeof(require.config) !== typeof(Function))) {\r\n",
       "    let require_script = document.createElement('script');\r\n",
       "    require_script.setAttribute('src', 'https://cdnjs.cloudflare.com/ajax/libs/require.js/2.3.6/require.min.js');\r\n",
       "    require_script.setAttribute('type', 'text/javascript');\r\n",
       "    \r\n",
       "    \r\n",
       "    require_script.onload = function() {\r\n",
       "        loadDotnetInteractiveApi();\r\n",
       "    };\r\n",
       "\r\n",
       "    document.getElementsByTagName('head')[0].appendChild(require_script);\r\n",
       "}\r\n",
       "else {\r\n",
       "    loadDotnetInteractiveApi();\r\n",
       "}\r\n",
       "\r\n",
       "    </script>\r\n",
       "</div>"
      ]
     },
     "metadata": {},
     "output_type": "display_data"
    },
    {
     "data": {
      "text/plain": [
       "Installed package NineWaves version 0.9.6"
      ]
     },
     "metadata": {},
     "output_type": "display_data"
    }
   ],
   "source": [
    "#r \"nuget: NineWaves\""
   ]
  },
  {
   "cell_type": "markdown",
   "id": "tight-practice",
   "metadata": {},
   "source": [
    "Everything is contained in the namespace RC.Maya, so let's open that"
   ]
  },
  {
   "cell_type": "code",
   "execution_count": 2,
   "id": "temporal-chemical",
   "metadata": {
    "dotnet_interactive": {
     "language": "fsharp"
    }
   },
   "outputs": [],
   "source": [
    "open RC.Maya"
   ]
  },
  {
   "cell_type": "markdown",
   "id": "temporal-trick",
   "metadata": {},
   "source": [
    "To check if everything's working, we call `NineWaves.getWaveday9` with the `DateTime` of today (the 2nd of May, 2021), to get the information of the 9th wave for today."
   ]
  },
  {
   "cell_type": "code",
   "execution_count": 3,
   "id": "coastal-proposition",
   "metadata": {
    "dotnet_interactive": {
     "language": "fsharp"
    }
   },
   "outputs": [
    {
     "data": {
      "text/html": [
       "<table><thead><tr><th>DayNumber</th><th>OfDays</th><th>WaveNumber</th><th>IsNight</th></tr></thead><tbody><tr><td><div class=\"dni-plaintext\">18</div></td><td><div class=\"dni-plaintext\">18</div></td><td><div class=\"dni-plaintext\">103</div></td><td><div class=\"dni-plaintext\">True</div></td></tr></tbody></table>"
      ]
     },
     "execution_count": 3,
     "metadata": {},
     "output_type": "execute_result"
    }
   ],
   "source": [
    "NineWaves.getWaveday9 System.DateTime.Today"
   ]
  },
  {
   "cell_type": "markdown",
   "id": "reasonable-malta",
   "metadata": {},
   "source": [
    "From the returned `WaveDay` type we can see, that today is the 18th day (`DayNumber`) of 18 days (`OfDays`) of the 103rd 9th wave (`WaveNumber`). Actually it is a 'Night' (`IsNight`), the wave is 'below zero'. \n",
    "\n",
    "We can do the same with all the other 8 Waves:"
   ]
  },
  {
   "cell_type": "code",
   "execution_count": 4,
   "id": "technical-brighton",
   "metadata": {
    "dotnet_interactive": {
     "language": "fsharp"
    }
   },
   "outputs": [
    {
     "data": {
      "text/html": [
       "<table><thead><tr><th>DayNumber</th><th>OfDays</th><th>WaveNumber</th><th>IsNight</th></tr></thead><tbody><tr><td><div class=\"dni-plaintext\">234</div></td><td><div class=\"dni-plaintext\">360</div></td><td><div class=\"dni-plaintext\">12</div></td><td><div class=\"dni-plaintext\">False</div></td></tr></tbody></table>"
      ]
     },
     "execution_count": 4,
     "metadata": {},
     "output_type": "execute_result"
    }
   ],
   "source": [
    "NineWaves.getWaveday8 System.DateTime.Today"
   ]
  },
  {
   "cell_type": "code",
   "execution_count": 5,
   "id": "significant-notice",
   "metadata": {
    "dotnet_interactive": {
     "language": "fsharp"
    }
   },
   "outputs": [
    {
     "data": {
      "text/html": [
       "<table><thead><tr><th>DayNumber</th><th>OfDays</th><th>WaveNumber</th><th>IsNight</th></tr></thead><tbody><tr><td><div class=\"dni-plaintext\">3474</div></td><td><div class=\"dni-plaintext\">7200</div></td><td><div class=\"dni-plaintext\">7</div></td><td><div class=\"dni-plaintext\">True</div></td></tr></tbody></table>"
      ]
     },
     "execution_count": 5,
     "metadata": {},
     "output_type": "execute_result"
    }
   ],
   "source": [
    "NineWaves.getWaveday7 System.DateTime.Today"
   ]
  },
  {
   "cell_type": "code",
   "execution_count": 6,
   "id": "protective-inclusion",
   "metadata": {
    "dotnet_interactive": {
     "language": "fsharp"
    }
   },
   "outputs": [
    {
     "data": {
      "text/html": [
       "<table><thead><tr><th>DayNumber</th><th>OfDays</th><th>WaveNumber</th><th>IsNight</th></tr></thead><tbody><tr><td><div class=\"dni-plaintext\">3474</div></td><td><div class=\"dni-plaintext\">144000</div></td><td><div class=\"dni-plaintext\">7</div></td><td><div class=\"dni-plaintext\">True</div></td></tr></tbody></table>"
      ]
     },
     "execution_count": 6,
     "metadata": {},
     "output_type": "execute_result"
    }
   ],
   "source": [
    "NineWaves.getWaveday6 System.DateTime.Today"
   ]
  },
  {
   "cell_type": "code",
   "execution_count": 7,
   "id": "rolled-object",
   "metadata": {
    "dotnet_interactive": {
     "language": "fsharp"
    }
   },
   "outputs": [
    {
     "data": {
      "text/html": [
       "<table><thead><tr><th>DayNumber</th><th>OfDays</th><th>WaveNumber</th><th>IsNight</th></tr></thead><tbody><tr><td><div class=\"dni-plaintext\">3474</div></td><td><div class=\"dni-plaintext\">2880000</div></td><td><div class=\"dni-plaintext\">7</div></td><td><div class=\"dni-plaintext\">True</div></td></tr></tbody></table>"
      ]
     },
     "execution_count": 7,
     "metadata": {},
     "output_type": "execute_result"
    }
   ],
   "source": [
    "NineWaves.getWaveday5 System.DateTime.Today"
   ]
  },
  {
   "cell_type": "code",
   "execution_count": 8,
   "id": "sharp-values",
   "metadata": {
    "dotnet_interactive": {
     "language": "fsharp"
    }
   },
   "outputs": [
    {
     "data": {
      "text/html": [
       "<table><thead><tr><th>DayNumber</th><th>OfDays</th><th>WaveNumber</th><th>IsNight</th></tr></thead><tbody><tr><td><div class=\"dni-plaintext\">3474</div></td><td><div class=\"dni-plaintext\">57600000</div></td><td><div class=\"dni-plaintext\">7</div></td><td><div class=\"dni-plaintext\">True</div></td></tr></tbody></table>"
      ]
     },
     "execution_count": 8,
     "metadata": {},
     "output_type": "execute_result"
    }
   ],
   "source": [
    "NineWaves.getWaveday4 System.DateTime.Today"
   ]
  },
  {
   "cell_type": "code",
   "execution_count": 9,
   "id": "polished-court",
   "metadata": {
    "dotnet_interactive": {
     "language": "fsharp"
    }
   },
   "outputs": [
    {
     "data": {
      "text/html": [
       "<table><thead><tr><th>DayNumber</th><th>OfDays</th><th>WaveNumber</th><th>IsNight</th></tr></thead><tbody><tr><td><div class=\"dni-plaintext\">3474</div></td><td><div class=\"dni-plaintext\">1152000000</div></td><td><div class=\"dni-plaintext\">7</div></td><td><div class=\"dni-plaintext\">True</div></td></tr></tbody></table>"
      ]
     },
     "execution_count": 9,
     "metadata": {},
     "output_type": "execute_result"
    }
   ],
   "source": [
    "NineWaves.getWaveday3 System.DateTime.Today"
   ]
  },
  {
   "cell_type": "code",
   "execution_count": 10,
   "id": "respected-ocean",
   "metadata": {
    "dotnet_interactive": {
     "language": "fsharp"
    }
   },
   "outputs": [
    {
     "data": {
      "text/html": [
       "<table><thead><tr><th>DayNumber</th><th>OfDays</th><th>WaveNumber</th><th>IsNight</th></tr></thead><tbody><tr><td><div class=\"dni-plaintext\">3474</div></td><td><div class=\"dni-plaintext\">23040000000</div></td><td><div class=\"dni-plaintext\">7</div></td><td><div class=\"dni-plaintext\">True</div></td></tr></tbody></table>"
      ]
     },
     "execution_count": 10,
     "metadata": {},
     "output_type": "execute_result"
    }
   ],
   "source": [
    "NineWaves.getWaveday2 System.DateTime.Today"
   ]
  },
  {
   "cell_type": "code",
   "execution_count": 11,
   "id": "communist-luxembourg",
   "metadata": {
    "dotnet_interactive": {
     "language": "fsharp"
    }
   },
   "outputs": [
    {
     "data": {
      "text/html": [
       "<table><thead><tr><th>DayNumber</th><th>OfDays</th><th>WaveNumber</th><th>IsNight</th></tr></thead><tbody><tr><td><div class=\"dni-plaintext\">3474</div></td><td><div class=\"dni-plaintext\">460800000000</div></td><td><div class=\"dni-plaintext\">7</div></td><td><div class=\"dni-plaintext\">True</div></td></tr></tbody></table>"
      ]
     },
     "execution_count": 11,
     "metadata": {},
     "output_type": "execute_result"
    }
   ],
   "source": [
    "NineWaves.getWaveday1 System.DateTime.Today"
   ]
  },
  {
   "cell_type": "markdown",
   "id": "closed-butter",
   "metadata": {},
   "source": [
    "Of course we can use any date, like the 24th of October, 2014:"
   ]
  },
  {
   "cell_type": "code",
   "execution_count": 12,
   "id": "theoretical-expansion",
   "metadata": {
    "dotnet_interactive": {
     "language": "fsharp"
    }
   },
   "outputs": [
    {
     "data": {
      "text/html": [
       "<table><thead><tr><th>DayNumber</th><th>OfDays</th><th>WaveNumber</th><th>IsNight</th></tr></thead><tbody><tr><td><div class=\"dni-plaintext\">1092</div></td><td><div class=\"dni-plaintext\">7200</div></td><td><div class=\"dni-plaintext\">7</div></td><td><div class=\"dni-plaintext\">True</div></td></tr></tbody></table>"
      ]
     },
     "execution_count": 12,
     "metadata": {},
     "output_type": "execute_result"
    }
   ],
   "source": [
    "NineWaves.getWaveday7 (System.DateTime (2014, 10, 24))"
   ]
  },
  {
   "cell_type": "markdown",
   "id": "unknown-animation",
   "metadata": {},
   "source": [
    "`NineWaves` also contains the 9 sine wave funtions for the nine waves, to generate graphs of. All 9 functions are scaled, so that 0, the wavelength and half wavelength of each wave yields 0, and each day is a integer. The maximum and minimum is reached at `-wavelength / 4` and `wavelength / 4`.\n",
    "\n",
    "So: for each of the wavelengths we get 0:"
   ]
  },
  {
   "cell_type": "code",
   "execution_count": 13,
   "id": "german-denmark",
   "metadata": {
    "dotnet_interactive": {
     "language": "fsharp"
    }
   },
   "outputs": [
    {
     "data": {
      "text/html": [
       "<div class=\"dni-plaintext\">0</div>"
      ]
     },
     "execution_count": 13,
     "metadata": {},
     "output_type": "execute_result"
    }
   ],
   "source": [
    "NineWaves.wavefunc9 NineWaves.wavelength9"
   ]
  },
  {
   "cell_type": "code",
   "execution_count": 14,
   "id": "filled-knitting",
   "metadata": {
    "dotnet_interactive": {
     "language": "fsharp"
    }
   },
   "outputs": [
    {
     "data": {
      "text/html": [
       "<div class=\"dni-plaintext\">0</div>"
      ]
     },
     "execution_count": 14,
     "metadata": {},
     "output_type": "execute_result"
    }
   ],
   "source": [
    "NineWaves.wavefunc8 NineWaves.wavelength8"
   ]
  },
  {
   "cell_type": "code",
   "execution_count": 15,
   "id": "civil-directory",
   "metadata": {
    "dotnet_interactive": {
     "language": "fsharp"
    }
   },
   "outputs": [
    {
     "data": {
      "text/html": [
       "<div class=\"dni-plaintext\">0</div>"
      ]
     },
     "execution_count": 15,
     "metadata": {},
     "output_type": "execute_result"
    }
   ],
   "source": [
    "NineWaves.wavefunc7 NineWaves.wavelength7"
   ]
  },
  {
   "cell_type": "markdown",
   "id": "selected-citizen",
   "metadata": {},
   "source": [
    "And so on ...\n",
    "\n",
    "Same for the half wavelength:"
   ]
  },
  {
   "cell_type": "code",
   "execution_count": 16,
   "id": "under-increase",
   "metadata": {
    "dotnet_interactive": {
     "language": "fsharp"
    }
   },
   "outputs": [
    {
     "data": {
      "text/html": [
       "<div class=\"dni-plaintext\">-0</div>"
      ]
     },
     "execution_count": 16,
     "metadata": {},
     "output_type": "execute_result"
    }
   ],
   "source": [
    "NineWaves.wavefunc6 (NineWaves.wavelength6 * 0.5)"
   ]
  },
  {
   "cell_type": "markdown",
   "id": "recognized-seating",
   "metadata": {},
   "source": [
    "and of course multiplied by any integer factor:"
   ]
  },
  {
   "cell_type": "code",
   "execution_count": 17,
   "id": "broken-brooklyn",
   "metadata": {
    "dotnet_interactive": {
     "language": "fsharp"
    }
   },
   "outputs": [
    {
     "data": {
      "text/html": [
       "<div class=\"dni-plaintext\">0</div>"
      ]
     },
     "execution_count": 17,
     "metadata": {},
     "output_type": "execute_result"
    }
   ],
   "source": [
    "NineWaves.wavefunc5 (NineWaves.wavelength5 * -2.)"
   ]
  },
  {
   "cell_type": "code",
   "execution_count": 18,
   "id": "mighty-malta",
   "metadata": {
    "dotnet_interactive": {
     "language": "fsharp"
    }
   },
   "outputs": [
    {
     "data": {
      "text/html": [
       "<div class=\"dni-plaintext\">0</div>"
      ]
     },
     "execution_count": 18,
     "metadata": {},
     "output_type": "execute_result"
    }
   ],
   "source": [
    "NineWaves.wavefunc4 (NineWaves.wavelength4 * -1.5)"
   ]
  },
  {
   "cell_type": "markdown",
   "id": "concerned-syndicate",
   "metadata": {},
   "source": [
    "The maximum of `1` or `-1` is reached at wavelength / 4:"
   ]
  },
  {
   "cell_type": "code",
   "execution_count": 19,
   "id": "incoming-place",
   "metadata": {
    "dotnet_interactive": {
     "language": "fsharp"
    }
   },
   "outputs": [
    {
     "data": {
      "text/html": [
       "<div class=\"dni-plaintext\">-1</div>"
      ]
     },
     "execution_count": 19,
     "metadata": {},
     "output_type": "execute_result"
    }
   ],
   "source": [
    "NineWaves.wavefunc3 (NineWaves.wavelength3 * 0.25)"
   ]
  },
  {
   "cell_type": "code",
   "execution_count": 20,
   "id": "maritime-candy",
   "metadata": {
    "dotnet_interactive": {
     "language": "fsharp"
    }
   },
   "outputs": [
    {
     "data": {
      "text/html": [
       "<div class=\"dni-plaintext\">1</div>"
      ]
     },
     "execution_count": 20,
     "metadata": {},
     "output_type": "execute_result"
    }
   ],
   "source": [
    "NineWaves.wavefunc2 (NineWaves.wavelength2 * -0.25)"
   ]
  },
  {
   "cell_type": "code",
   "execution_count": 21,
   "id": "stretch-aspect",
   "metadata": {
    "dotnet_interactive": {
     "language": "fsharp"
    }
   },
   "outputs": [
    {
     "data": {
      "text/html": [
       "<div class=\"dni-plaintext\">1</div>"
      ]
     },
     "execution_count": 21,
     "metadata": {},
     "output_type": "execute_result"
    }
   ],
   "source": [
    "NineWaves.wavefunc1 (NineWaves.wavelength1 * -3.25)"
   ]
  },
  {
   "cell_type": "code",
   "execution_count": 22,
   "id": "published-closer",
   "metadata": {
    "dotnet_interactive": {
     "language": "fsharp"
    }
   },
   "outputs": [
    {
     "data": {
      "text/html": [
       "<div class=\"dni-plaintext\">-1</div>"
      ]
     },
     "execution_count": 22,
     "metadata": {},
     "output_type": "execute_result"
    }
   ],
   "source": [
    "NineWaves.wavefunc1 (NineWaves.wavelength1 * -3.75)"
   ]
  },
  {
   "cell_type": "markdown",
   "id": "massive-victoria",
   "metadata": {},
   "source": [
    "&copy; 2021 Roland Csaszar, licensed under the MIT license."
   ]
  }
 ],
 "metadata": {
  "kernelspec": {
   "display_name": ".NET (F#)",
   "language": "F#",
   "name": ".net-fsharp"
  },
  "language_info": {
   "file_extension": ".fs",
   "mimetype": "text/x-fsharp",
   "name": "C#",
   "pygments_lexer": "fsharp",
   "version": "4.5"
  }
 },
 "nbformat": 4,
 "nbformat_minor": 5
}
